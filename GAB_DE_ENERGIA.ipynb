{
 "cells": [
  {
   "cell_type": "markdown",
   "metadata": {},
   "source": [
    "$$ln(I) \\approx ln(I_o) + \\frac{e}{\\eta KT}V_b$$"
   ]
  },
  {
   "cell_type": "markdown",
   "metadata": {},
   "source": [
    "si consideramos la corriente en mA \n",
    "$$ln(I_{mA}) \\approx  (13.8155 + ln(I_0)) +  \\frac{e}{\\eta KT}V_b$$"
   ]
  },
  {
   "cell_type": "markdown",
   "metadata": {},
   "source": [
    "podemos ajustar la curba como: $$ln(I_{mA}) =  b_1 +  b_0V_b$$"
   ]
  },
  {
   "cell_type": "markdown",
   "metadata": {},
   "source": [
    "donde b1 y b0, son los parametros a encontrar"
   ]
  },
  {
   "cell_type": "markdown",
   "metadata": {},
   "source": [
    "\n",
    "La incertidumbre esta dada por\n",
    "$$ \\delta (ln(I)) = \\frac{\\delta I}{I}$$"
   ]
  },
  {
   "cell_type": "markdown",
   "metadata": {},
   "source": [
    "$$ K : 1.380649\\times 10^{-23}J.K^{-1}$$\n",
    "$$ T : 299.6K$$\n",
    "\n",
    "$$e : -1.6 \\times 10^{-19} c$$\n",
    "\n",
    "Entonces\n",
    "\n",
    "$$ \\frac{e}{KT} = 38.682$$"
   ]
  },
  {
   "cell_type": "code",
   "execution_count": null,
   "metadata": {},
   "outputs": [],
   "source": []
  },
  {
   "cell_type": "code",
   "execution_count": 192,
   "metadata": {},
   "outputs": [
    {
     "data": {
      "image/png": "[encoded data removed]",
      "text/plain": [
       "<Figure size 640x480 with 1 Axes>"
      ]
     },
     "metadata": {},
     "output_type": "display_data"
    }
   ],
   "source": [
    "import pandas as pd\n",
    "import numpy as np\n",
    "import matplotlib.pyplot as plt\n",
    "from scipy.odr import ODR, Model, RealData\n",
    "\n",
    "#################EXTRACCION_DE_DATOS####################\n",
    "ubc = \"C:/Users/César/Downloads/FINAL PROJECT-LAB.INTERMEDIA.xlsx\"\n",
    "data = pd.ExcelFile(ubc)\n",
    "\n",
    "# Leer la hoja deseada del archivo Excel\n",
    "nombre_hoja = \"Hoja1\"  \n",
    "datos_hoja = data.parse(nombre_hoja)\n",
    "\n",
    "# Definir rango de columnas de 5-11\n",
    "columnas_a_extraer = datos_hoja.columns[5:11]  # Columnas F a K\n",
    "\n",
    "# Inicializar una lista para almacenar los arreglos NumPy\n",
    "arreglos_numpy = []\n",
    "\n",
    "# Recorrer cada columna del rango especificado\n",
    "for columna in columnas_a_extraer:\n",
    "    # Filtrar los datos numéricos de la columna actual\n",
    "    datos_filtrados = datos_hoja.loc[datos_hoja[columna].notnull() & datos_hoja[columna].apply(np.isreal), columna]\n",
    "    \n",
    "    # Convertir los datos filtrados a un arreglo de NumPy y agregarlos a la lista\n",
    "    arreglo_np = datos_filtrados.to_numpy()\n",
    "    arreglos_numpy.append(arreglo_np)\n",
    "\n",
    "########################DATOS###########################\n",
    "\n",
    "V  = arreglos_numpy[0][:10].astype(float)\n",
    "I  = arreglos_numpy[2][:10].astype(float)\n",
    "dV = arreglos_numpy[3][:10].astype(float)\n",
    "dI = arreglos_numpy[5][:10].astype(float)\n",
    "#####################ODR################################\n",
    "odr_data =  RealData(x = V , y = I , sx = dV, sy = dI)\n",
    "\n",
    "def expect_odr(B,x):\n",
    "    return B[0]*x + B[1]\n",
    "\n",
    "odr_model = Model(expect_odr)\n",
    "#ajuste ODR\n",
    "odr_fit = ODR(odr_data, odr_model, beta0=[1,0])\n",
    "out = odr_fit.run()\n",
    "\n",
    "param3 = out.beta\n",
    "incert3 = out.sd_beta\n",
    "########################################################\n",
    "\n",
    "# Generar puntos para la línea del modelo ajustado\n",
    "x_linea = np.linspace(min(V), max(V), 100)  # Generar valores de x para la línea\n",
    "y_linea = expect_odr(param3, x_linea)  # Calcular valores de y correspondientes al modelo\n",
    "\n",
    "# Graficar datos con error bars\n",
    "plt.errorbar(V, I, xerr=dV, yerr=dI, fmt=\"k.\", label=\"Datos\")\n",
    "\n",
    "# Graficar la línea del modelo ajustado\n",
    "plt.plot(x_linea, y_linea, 'r-', label=\"Curva ajustada: Germanio\")\n",
    "\n",
    "\n",
    "\n",
    "# ecuacion_latex_nuevos = r'$ln(I) \\approx -10.412 + 36.073V_b$'  # La ecuación en LaTeX para los nuevos datos\n",
    "# ecuacion_latex_errores1 = r'$\\delta b_0 = \\pm 0.465$'\n",
    "# ecuacion_latex_errores2 = r'$\\delta b_1 =  \\pm 0.103$'\n",
    "# plt.text(0.25, -6, ecuacion_latex_nuevos, fontsize=12, ha='center')\n",
    "# plt.text(0.25, -8, ecuacion_latex_errores1, fontsize=12, ha='center')\n",
    "# plt.text(0.25, -10, ecuacion_latex_errores2, fontsize=12, ha='center')\n",
    "\n",
    "plt.xlabel(r\"$Voltaje \\quad [V]$\")\n",
    "plt.ylabel(r\"$ln(I)  \\quad [mA]$\")\n",
    "plt.legend()\n",
    "plt.grid()\n",
    "plt.show()\n",
    "\n"
   ]
  },
  {
   "cell_type": "code",
   "execution_count": 193,
   "metadata": {},
   "outputs": [
    {
     "data": {
      "text/plain": [
       "array([ 36.07305225, -10.41287185])"
      ]
     },
     "execution_count": 193,
     "metadata": {},
     "output_type": "execute_result"
    }
   ],
   "source": [
    "param3 "
   ]
  },
  {
   "cell_type": "code",
   "execution_count": 194,
   "metadata": {},
   "outputs": [
    {
     "data": {
      "text/plain": [
       "array([0.46479029, 0.10272369])"
      ]
     },
     "execution_count": 194,
     "metadata": {},
     "output_type": "execute_result"
    }
   ],
   "source": [
    "incert3"
   ]
  },
  {
   "cell_type": "code",
   "execution_count": 195,
   "metadata": {},
   "outputs": [
    {
     "data": {
      "text/plain": [
       "1.0723240088451345"
      ]
     },
     "execution_count": 195,
     "metadata": {},
     "output_type": "execute_result"
    }
   ],
   "source": [
    "n1 = 38.682/36.07305225\n",
    "n1"
   ]
  },
  {
   "cell_type": "code",
   "execution_count": 196,
   "metadata": {},
   "outputs": [
    {
     "data": {
      "image/png": "[encoded data removed]",
      "text/plain": [
       "<Figure size 640x480 with 1 Axes>"
      ]
     },
     "metadata": {},
     "output_type": "display_data"
    }
   ],
   "source": [
    "import pandas as pd\n",
    "import numpy as np\n",
    "import matplotlib.pyplot as plt\n",
    "from scipy.odr import ODR, Model, RealData\n",
    "\n",
    "#################EXTRACCION_DE_DATOS####################\n",
    "ubc = \"C:/Users/César/Downloads/FINAL PROJECT-LAB.INTERMEDIA.xlsx\"\n",
    "data = pd.ExcelFile(ubc)\n",
    "\n",
    "# Leer la hoja deseada del archivo Excel\n",
    "nombre_hoja = \"Hoja2\"  \n",
    "datos_hoja = data.parse(nombre_hoja)\n",
    "\n",
    "# Definir rango de columnas de 5-11\n",
    "columnas_a_extraer = datos_hoja.columns[3:9]  # Columnas F a K\n",
    "\n",
    "# Inicializar una lista para almacenar los arreglos NumPy\n",
    "arreglos_numpy = []\n",
    "\n",
    "# Recorrer cada columna del rango especificado\n",
    "for columna in columnas_a_extraer:\n",
    "    # Filtrar los datos numéricos de la columna actual\n",
    "    datos_filtrados = datos_hoja.loc[datos_hoja[columna].notnull() & datos_hoja[columna].apply(np.isreal), columna]\n",
    "    \n",
    "    # Convertir los datos filtrados a un arreglo de NumPy y agregarlos a la lista\n",
    "    arreglo_np = datos_filtrados.to_numpy()\n",
    "    arreglos_numpy.append(arreglo_np)\n",
    "\n",
    "########################DATOS###########################\n",
    "\n",
    "V  = arreglos_numpy[0][:16].astype(float)\n",
    "I  = arreglos_numpy[2][:16].astype(float)\n",
    "dV = arreglos_numpy[3][:16].astype(float)\n",
    "dI = arreglos_numpy[5][:16].astype(float)\n",
    "#####################ODR################################\n",
    "odr_data =  RealData(x = V , y = I , sx = dV, sy = dI)\n",
    "\n",
    "def expect_odr(B,x):\n",
    "    return B[0]*x + B[1]\n",
    "\n",
    "odr_model = Model(expect_odr)\n",
    "#ajuste ODR\n",
    "odr_fit = ODR(odr_data, odr_model, beta0=[1,0])\n",
    "out = odr_fit.run()\n",
    "\n",
    "param3 = out.beta\n",
    "incert3 = out.sd_beta\n",
    "########################################################\n",
    "\n",
    "# Generar puntos para la línea del modelo ajustado\n",
    "x_linea = np.linspace(min(V), max(V), 100)  # Generar valores de x para la línea\n",
    "y_linea = expect_odr(param3, x_linea)  # Calcular valores de y correspondientes al modelo\n",
    "\n",
    "# Graficar datos con error bars\n",
    "plt.errorbar(V, I, xerr=dV, yerr=dI, fmt=\"k.\", label=\"Datos\")\n",
    "\n",
    "# Graficar la línea del modelo ajustado\n",
    "plt.plot(x_linea, y_linea, 'r-', label=\"Curva ajustada : Silicio\")\n",
    "\n",
    "# ecuacion_latex_nuevos = r'$ln(I) \\approx -15.033+ 24.886V_b$'  # La ecuación en LaTeX para los nuevos datos\n",
    "# ecuacion_latex_errores1 = r'$\\delta b_0 = \\pm 0.314$'\n",
    "# ecuacion_latex_errores2 = r'$\\delta b_1 =  \\pm 0.158$'\n",
    "# plt.text(0.55, -6, ecuacion_latex_nuevos, fontsize=12, ha='center')\n",
    "# plt.text(0.55, -8, ecuacion_latex_errores1, fontsize=12, ha='center')\n",
    "# plt.text(0.55, -10, ecuacion_latex_errores2, fontsize=12, ha='center')\n",
    "\n",
    "\n",
    "plt.xlabel(r\"$Voltaje \\quad [V]$\")\n",
    "plt.ylabel(r\"$ln(I)  \\quad [mA]$\")\n",
    "plt.grid()\n",
    "plt.legend()\n",
    "plt.show()\n"
   ]
  },
  {
   "cell_type": "code",
   "execution_count": 197,
   "metadata": {},
   "outputs": [
    {
     "data": {
      "text/plain": [
       "array([ 24.88618322, -15.0332546 ])"
      ]
     },
     "execution_count": 197,
     "metadata": {},
     "output_type": "execute_result"
    }
   ],
   "source": [
    "param3\n"
   ]
  },
  {
   "cell_type": "code",
   "execution_count": 198,
   "metadata": {},
   "outputs": [
    {
     "data": {
      "text/plain": [
       "array([0.31431945, 0.1584028 ])"
      ]
     },
     "execution_count": 198,
     "metadata": {},
     "output_type": "execute_result"
    }
   ],
   "source": [
    "incert3"
   ]
  },
  {
   "cell_type": "code",
   "execution_count": 199,
   "metadata": {},
   "outputs": [
    {
     "data": {
      "text/plain": [
       "1.5543564739535018"
      ]
     },
     "execution_count": 199,
     "metadata": {},
     "output_type": "execute_result"
    }
   ],
   "source": [
    "n2 = 38.682/24.88618322\n",
    "n2"
   ]
  },
  {
   "cell_type": "markdown",
   "metadata": {},
   "source": []
  },
  {
   "cell_type": "markdown",
   "metadata": {},
   "source": [
    "$$ln(I_0) \\approx ln(C) - \\frac{1}{\\eta KT}E_g$$"
   ]
  },
  {
   "cell_type": "markdown",
   "metadata": {},
   "source": [
    "$$\\delta \\left(\\frac{1}{T} \\right)= \\frac{\\delta T}{T^2}$$\n",
    "\n",
    "$$ \\delta (ln(I)) = \\frac{\\delta I}{I}$$"
   ]
  },
  {
   "cell_type": "markdown",
   "metadata": {},
   "source": [
    "$$\\frac{1}{2K}= 0.3621$$"
   ]
  },
  {
   "cell_type": "markdown",
   "metadata": {},
   "source": [
    "$$1J = 6.242 \\times 10^{18} ev$$"
   ]
  },
  {
   "cell_type": "markdown",
   "metadata": {},
   "source": [
    "Recordemos \n",
    "\n",
    "$$n_1 =  1.072$$\n",
    "$$n_2 =  1.554$$"
   ]
  },
  {
   "cell_type": "code",
   "execution_count": 200,
   "metadata": {},
   "outputs": [
    {
     "data": {
      "text/plain": [
       "11604.518121745583"
      ]
     },
     "execution_count": 200,
     "metadata": {},
     "output_type": "execute_result"
    }
   ],
   "source": [
    "kinv = 1/(8.617333262*10**(-5))\n",
    "kinv"
   ]
  },
  {
   "cell_type": "markdown",
   "metadata": {},
   "source": [
    "$$1/k = 11604.518$$"
   ]
  },
  {
   "cell_type": "code",
   "execution_count": 201,
   "metadata": {},
   "outputs": [
    {
     "data": {
      "image/png": "[encoded data removed]",
      "text/plain": [
       "<Figure size 640x480 with 1 Axes>"
      ]
     },
     "metadata": {},
     "output_type": "display_data"
    }
   ],
   "source": [
    "import pandas as pd\n",
    "import numpy as np\n",
    "import matplotlib.pyplot as plt\n",
    "from scipy.odr import ODR, Model, RealData\n",
    "\n",
    "#################EXTRACCION_DE_DATOS####################\n",
    "ubc = \"C:/Users/César/Downloads/AD803000.xlsx\"\n",
    "data = pd.ExcelFile(ubc)\n",
    "\n",
    "# Leer la hoja deseada del archivo Excel\n",
    "nombre_hoja = \"Hoja1\"  \n",
    "datos_hoja = data.parse(nombre_hoja)\n",
    "\n",
    "# Definir rango de columnas de 4-13\n",
    "columnas_a_extraer = datos_hoja.columns[4:13]  \n",
    "\n",
    "# Inicializar una lista para almacenar los arreglos NumPy\n",
    "arreglos_numpy = []\n",
    "\n",
    "# Recorrer cada columna del rango especificado\n",
    "for columna in columnas_a_extraer:\n",
    "    # Filtrar los datos numéricos de la columna actual\n",
    "    datos_filtrados = datos_hoja.loc[datos_hoja[columna].notnull() & datos_hoja[columna].apply(np.isreal), columna]\n",
    "    \n",
    "    # Convertir los datos filtrados a un arreglo de NumPy y agregarlos a la lista\n",
    "    arreglo_np = datos_filtrados.to_numpy()\n",
    "    arreglos_numpy.append(arreglo_np)\n",
    "\n",
    "\n",
    "########################DATOS###########################\n",
    "\n",
    "T = arreglos_numpy[8][:30].astype(float)\n",
    "I  = arreglos_numpy[3][:30].astype(float)\n",
    "dT = arreglos_numpy[7][:30].astype(float)\n",
    "dI = arreglos_numpy[6][:30].astype(float)\n",
    "#####################ODR################################\n",
    "odr_data =  RealData(x = T , y = I , sx = dT, sy = dI)\n",
    "\n",
    "def expect_odr(B, x):\n",
    "    return -B[0] * x + B[1]\n",
    "\n",
    "odr_model = Model(expect_odr)\n",
    "#ajuste ODR\n",
    "odr_fit = ODR(odr_data, odr_model, beta0=[1,1])\n",
    "out = odr_fit.run()\n",
    "\n",
    "param3 = out.beta\n",
    "incert3 = out.sd_beta\n",
    "########################################################\n",
    "\n",
    "# Generar puntos para la línea del modelo ajustado\n",
    "x_linea = np.linspace(min(T), max(T), 100)  # Generar valores de x para la línea\n",
    "y_linea = expect_odr(param3, x_linea)  # Calcular valores de y correspondientes al modelo\n",
    "\n",
    "# Graficar datos con error bars\n",
    "plt.errorbar(T, I, xerr=dT, yerr=dI, fmt=\"k.\", label=\"Datos\")\n",
    "\n",
    "\n",
    "\n",
    "# ecuacion_latex_nuevos = r'$ln(I_) \\approx  22.234 - 7729.342E_g$'  # La ecuación en LaTeX para los nuevos datos\n",
    "# ecuacion_latex_errores1 = r'$\\delta b_0 = \\pm 94.169$'\n",
    "# ecuacion_latex_errores2 = r'$\\delta b_1 =  \\pm 0.245$'\n",
    "# plt.text(0.00262, 0.5, ecuacion_latex_nuevos, fontsize=12, ha='center')\n",
    "# plt.text(0.0026, 0, ecuacion_latex_errores1, fontsize=12, ha='center')\n",
    "# plt.text(0.0026,-0.5, ecuacion_latex_errores2, fontsize=12, ha='center')\n",
    "\n",
    "# Graficar la línea del modelo ajustado\n",
    "plt.plot(x_linea, y_linea, 'r-', label=\"Curva ajustada : Gap-Ge\")\n",
    "\n",
    "plt.xlabel(r\"$T^{-1} \\quad [K^{-1}]$\")\n",
    "plt.ylabel(r\"$ln(I)  \\quad [uA]$\")\n",
    "plt.grid()\n",
    "plt.legend()\n",
    "plt.show()"
   ]
  },
  {
   "cell_type": "code",
   "execution_count": 202,
   "metadata": {},
   "outputs": [
    {
     "data": {
      "text/plain": [
       "array([7729.34188684,   22.23427898])"
      ]
     },
     "execution_count": 202,
     "metadata": {},
     "output_type": "execute_result"
    }
   ],
   "source": [
    "param3"
   ]
  },
  {
   "cell_type": "code",
   "execution_count": 203,
   "metadata": {},
   "outputs": [
    {
     "data": {
      "text/plain": [
       "array([94.16921829,  0.245047  ])"
      ]
     },
     "execution_count": 203,
     "metadata": {},
     "output_type": "execute_result"
    }
   ],
   "source": [
    "incert3 "
   ]
  },
  {
   "cell_type": "code",
   "execution_count": 204,
   "metadata": {},
   "outputs": [],
   "source": [
    "paso1 = 11604.518/n1"
   ]
  },
  {
   "cell_type": "markdown",
   "metadata": {},
   "source": [
    "7729.34188684"
   ]
  },
  {
   "cell_type": "markdown",
   "metadata": {},
   "source": [
    "$$\\frac{1}{Kn_1}= 10821.839$$"
   ]
  },
  {
   "cell_type": "code",
   "execution_count": 205,
   "metadata": {},
   "outputs": [
    {
     "data": {
      "text/plain": [
       "0.999999981003659"
      ]
     },
     "execution_count": 205,
     "metadata": {},
     "output_type": "execute_result"
    }
   ],
   "source": [
    "Eg1= 10821.839/paso1\n",
    "Eg1"
   ]
  },
  {
   "cell_type": "code",
   "execution_count": 206,
   "metadata": {},
   "outputs": [
    {
     "data": {
      "image/png": "[encoded data removed]",
      "text/plain": [
       "<Figure size 640x480 with 1 Axes>"
      ]
     },
     "metadata": {},
     "output_type": "display_data"
    }
   ],
   "source": [
    "import pandas as pd\n",
    "import numpy as np\n",
    "import matplotlib.pyplot as plt\n",
    "from scipy.odr import ODR, Model, RealData\n",
    "\n",
    "########################################################\n",
    "temperaturas = np.array([383.2, 373, 369, 366, 363, 360, 387.3, 385, 383, 380, 375, 370, 403, 402, 401, 400, 399, 398, 397, 396.9, 394.8, 394])\n",
    "x = np.array([1/w for w in temperaturas])\n",
    "error1 = np.array([((0.3*(t-273)) / 100) + 1 for t in temperaturas])\n",
    "x_err = np.array([tf / (i ** 2) for tf, i in zip(error1, temperaturas)])\n",
    "\n",
    "corrientes_uA = np.array([1.2, 0.5, 0.4, 0.3, 0.2, 0.1, 1.4, 1.2, 1.0, 0.9, 0.5, 0.4, 4.6, 4.5, 4.0, 3.6, 3.3, 3.1, 3.0, 2.7, 2.2, 2.1])\n",
    "y = np.array([np.log(p) for p in corrientes_uA])\n",
    "error2 = np.array([(l / 100) + 0.3 for l in corrientes_uA])\n",
    "y_err = np.array([g / s for s, g in zip(corrientes_uA, error2)])\n",
    "\n",
    "#########################################################3\n",
    "\n",
    "T = x\n",
    "I  = y\n",
    "dT = x_err\n",
    "dI = y_err\n",
    "\n",
    "#####################ODR################################\n",
    "odr_data =  RealData(x = T , y = I , sx = dT, sy = dI)\n",
    "\n",
    "def expect_odr(B, x):\n",
    "    return -B[0] * x + B[1]\n",
    "\n",
    "odr_model = Model(expect_odr)\n",
    "#ajuste ODR\n",
    "odr_fit = ODR(odr_data, odr_model, beta0=[1,1])\n",
    "out = odr_fit.run()\n",
    "\n",
    "param3 = out.beta\n",
    "incert3 = out.sd_beta\n",
    "########################################################\n",
    "\n",
    "# Generar puntos para la línea del modelo ajustado\n",
    "x_linea = np.linspace(min(T), max(T), 100)  # Generar valores de x para la línea\n",
    "y_linea = expect_odr(param3, x_linea)  # Calcular valores de y correspondientes al modelo\n",
    "\n",
    "# Graficar datos con error bars\n",
    "plt.errorbar(T, I, xerr=dT, yerr=dI, fmt=\"k.\", label=\"Datos\")\n",
    "\n",
    "# ecuacion_latex_nuevos = r'$ln(I) \\approx  29.950 - 11464.568E_g$'  # La ecuación en LaTeX para los nuevos datos\n",
    "# ecuacion_latex_errores1 = r'$\\delta b_0 = \\pm 322.627$'\n",
    "# ecuacion_latex_errores2 = r'$\\delta b_1 =  \\pm  0.832$'\n",
    "# plt.text(0.00258, -2, ecuacion_latex_nuevos, fontsize=12, ha='center')\n",
    "# plt.text(0.00258, -3, ecuacion_latex_errores1, fontsize=12, ha='center')\n",
    "# plt.text(0.00258,-4, ecuacion_latex_errores2, fontsize=12, ha='center')\n",
    "\n",
    "# Graficar la línea del modelo ajustado\n",
    "plt.plot(x_linea, y_linea, 'g-', label=\"Curva ajustada : Gap-Si\")\n",
    "\n",
    "plt.xlabel(r\"$T^{-1} \\quad [K^{-1}]$\")\n",
    "plt.ylabel(r\"$ln(I)  \\quad [uA]$\")\n",
    "plt.grid()\n",
    "plt.legend()\n",
    "plt.show()"
   ]
  },
  {
   "cell_type": "code",
   "execution_count": 207,
   "metadata": {},
   "outputs": [
    {
     "data": {
      "text/plain": [
       "array([11464.56767137,    29.95014808])"
      ]
     },
     "execution_count": 207,
     "metadata": {},
     "output_type": "execute_result"
    }
   ],
   "source": [
    "param3"
   ]
  },
  {
   "cell_type": "code",
   "execution_count": 208,
   "metadata": {},
   "outputs": [
    {
     "data": {
      "text/plain": [
       "array([322.62778276,   0.81264315])"
      ]
     },
     "execution_count": 208,
     "metadata": {},
     "output_type": "execute_result"
    }
   ],
   "source": [
    "incert3"
   ]
  },
  {
   "cell_type": "code",
   "execution_count": 209,
   "metadata": {},
   "outputs": [],
   "source": [
    "paso2 = 11604.518/n2"
   ]
  },
  {
   "cell_type": "code",
   "execution_count": 210,
   "metadata": {},
   "outputs": [
    {
     "data": {
      "text/plain": [
       "1.5356108661750256"
      ]
     },
     "execution_count": 210,
     "metadata": {},
     "output_type": "execute_result"
    }
   ],
   "source": [
    "Eg2 = 11464.567/paso2\n",
    "Eg2"
   ]
  }
 ],
 "metadata": {
  "kernelspec": {
   "display_name": "Python 3",
   "language": "python",
   "name": "python3"
  },
  "language_info": {
   "codemirror_mode": {
    "name": "ipython",
    "version": 3
   },
   "file_extension": ".py",
   "mimetype": "text/x-python",
   "name": "python",
   "nbconvert_exporter": "python",
   "pygments_lexer": "ipython3",
   "version": "3.11.1"
  }
 },
 "nbformat": 4,
 "nbformat_minor": 2
}
